{
 "cells": [
  {
   "cell_type": "code",
   "execution_count": 12,
   "id": "38f831a3",
   "metadata": {},
   "outputs": [],
   "source": [
    "import networkx as nx\n",
    "import pandas as pd\n",
    "import numpy as np\n",
    "import arxiv\n",
    "\n",
    "from sklearn.ensemble import GradientBoostingClassifier\n",
    "from sklearn.model_selection import train_test_split\n",
    "from sklearn.metrics import accuracy_score, matthews_corrcoef, confusion_matrix, classification_report\n",
    "from itertools import product\n",
    "from sklearn.metrics.pairwise import cosine_similarity\n",
    "from node2vec import Node2Vec as n2v"
   ]
  },
  {
   "cell_type": "code",
   "execution_count": null,
   "id": "c620fb0c-c718-4662-bbca-97a8b2de6c49",
   "metadata": {},
   "outputs": [],
   "source": []
  },
  {
   "cell_type": "code",
   "execution_count": 22,
   "id": "021b7586-9338-4a64-a147-c8da554e3928",
   "metadata": {},
   "outputs": [],
   "source": [
    "queries = [\n",
    "    'automl', 'machine learning', 'data', 'physics', 'mathematics', 'recommendation system', 'nlp', 'neural networks'\n",
    "]"
   ]
  },
  {
   "cell_type": "code",
   "execution_count": 23,
   "id": "0ea42a35-9d9c-45bb-923f-3830ea72b270",
   "metadata": {},
   "outputs": [],
   "source": [
    "d = []\n",
    "#d = pd.DataFrame()\n",
    "searches  = []\n",
    "max_results = 100"
   ]
  },
  {
   "cell_type": "code",
   "execution_count": 24,
   "id": "84e0f8cf-16fb-435f-81d8-1ae4849a5ce6",
   "metadata": {},
   "outputs": [],
   "source": [
    "# making request from the API"
   ]
  },
  {
   "cell_type": "code",
   "execution_count": 25,
   "id": "dab537cd-9073-4fd7-ae80-98a895dac4d0",
   "metadata": {},
   "outputs": [],
   "source": [
    "for query in queries:\n",
    "    search  = arxiv.Search(\n",
    "        query = query,\n",
    "        max_results = max_results,\n",
    "        sort_by = arxiv.SortCriterion.SubmittedDate,\n",
    "        sort_order = arxiv.SortOrder.Descending\n",
    "    )\n",
    "    searches.append(search)"
   ]
  },
  {
   "cell_type": "code",
   "execution_count": 26,
   "id": "03e2fad2-3a4e-4191-850a-8c561e47fe44",
   "metadata": {},
   "outputs": [],
   "source": [
    "# Making the search results into a dataframe"
   ]
  },
  {
   "cell_type": "code",
   "execution_count": 27,
   "id": "24d4d241-7401-4770-a7f9-2813b2606b7b",
   "metadata": {},
   "outputs": [],
   "source": [
    "for search in searches:\n",
    "    for res in search.results():\n",
    "        data = {\n",
    "            'title': res.title,\n",
    "            'date': res.published,\n",
    "            'article_id': res.entry_id,\n",
    "            'url': res.pdf_url,\n",
    "            'main_topic': res.primary_category,\n",
    "            'all_topics': res.categories,\n",
    "            'authors': res.authors\n",
    "\n",
    "        }\n",
    "        d.append(data)"
   ]
  },
  {
   "cell_type": "code",
   "execution_count": 28,
   "id": "5579f2d5-3193-48d4-9d96-b7215084632a",
   "metadata": {},
   "outputs": [],
   "source": [
    "d = pd.DataFrame(d)"
   ]
  },
  {
   "cell_type": "code",
   "execution_count": 29,
   "id": "b55b22a8-77e5-414b-b7b6-60fcfd1de369",
   "metadata": {},
   "outputs": [
    {
     "data": {
      "text/html": [
       "<div>\n",
       "<style scoped>\n",
       "    .dataframe tbody tr th:only-of-type {\n",
       "        vertical-align: middle;\n",
       "    }\n",
       "\n",
       "    .dataframe tbody tr th {\n",
       "        vertical-align: top;\n",
       "    }\n",
       "\n",
       "    .dataframe thead th {\n",
       "        text-align: right;\n",
       "    }\n",
       "</style>\n",
       "<table border=\"1\" class=\"dataframe\">\n",
       "  <thead>\n",
       "    <tr style=\"text-align: right;\">\n",
       "      <th></th>\n",
       "    </tr>\n",
       "  </thead>\n",
       "  <tbody>\n",
       "  </tbody>\n",
       "</table>\n",
       "</div>"
      ],
      "text/plain": [
       "Empty DataFrame\n",
       "Columns: []\n",
       "Index: []"
      ]
     },
     "execution_count": 29,
     "metadata": {},
     "output_type": "execute_result"
    }
   ],
   "source": [
    "d.head()"
   ]
  },
  {
   "cell_type": "code",
   "execution_count": null,
   "id": "b878c035-1297-451d-8439-90c778c0d478",
   "metadata": {},
   "outputs": [],
   "source": []
  }
 ],
 "metadata": {
  "kernelspec": {
   "display_name": "Python 3 (ipykernel)",
   "language": "python",
   "name": "python3"
  },
  "language_info": {
   "codemirror_mode": {
    "name": "ipython",
    "version": 3
   },
   "file_extension": ".py",
   "mimetype": "text/x-python",
   "name": "python",
   "nbconvert_exporter": "python",
   "pygments_lexer": "ipython3",
   "version": "3.8.8"
  }
 },
 "nbformat": 4,
 "nbformat_minor": 5
}
